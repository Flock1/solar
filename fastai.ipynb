{
 "cells": [
  {
   "cell_type": "code",
   "execution_count": 1,
   "metadata": {},
   "outputs": [],
   "source": [
    "import numpy as np\n",
    "from fastai import *\n",
    "import csv\n",
    "from glob import glob\n",
    "import os\n",
    "import pandas as pd\n",
    "from sklearn.model_selection import train_test_split\n",
    "import torch\n",
    "import fastai\n",
    "# from fastai.data.core import DataLoaders\n",
    "# from fastai.vision.learner import *\n",
    "from fastai.basics import *\n",
    "# from fastai.vision.core import *\n",
    "# from fastai.vision.data import *\n",
    "# from fastai.vision.augment import *\n",
    "# from fastai.vision import models\n",
    "# from fastai.vision.learner import Learner\n",
    "from fastai.vision.all import *\n",
    "from fastai.callback.schedule import lr_find\n",
    "from torch import nn\n",
    "import torch.nn.functional as F"
   ]
  },
  {
   "cell_type": "code",
   "execution_count": 2,
   "metadata": {
    "scrolled": true
   },
   "outputs": [],
   "source": [
    "# sudoPassword = 'rare886apt269'\n",
    "# command = ['sudo rmmod nvidia_uvm', 'sudo modprobe nvidia_uvm']\n",
    "# if not torch.cuda.is_available():\n",
    "#     os.system('echo %s|sudo -S %s' % (sudoPassword, command[0]))\n",
    "#     os.system('echo %s|sudo -S %s' % (sudoPassword, command[1]))\n",
    "# torch.cuda.is_available()"
   ]
  },
  {
   "cell_type": "code",
   "execution_count": 3,
   "metadata": {},
   "outputs": [],
   "source": [
    "# imgs = '/media/sarvagya/66e1ccd6-9d4b-4a61-8750-36e2e23d8988/solar/11/'\n",
    "# days = (sorted(os.listdir(imgs)))\n",
    "# files = []\n",
    "# for day in days:\n",
    "# #     print(\"#####################\")\n",
    "# #     print(sorted(glob(imgs+month+'/*.npz')))\n",
    "#     img = sorted(glob(imgs+day+'/*.npz'))\n",
    "#     for i in img:\n",
    "#         files.append(i)"
   ]
  },
  {
   "cell_type": "code",
   "execution_count": 4,
   "metadata": {},
   "outputs": [],
   "source": [
    "# len(files)"
   ]
  },
  {
   "cell_type": "code",
   "execution_count": 5,
   "metadata": {},
   "outputs": [],
   "source": [
    "# column_name = ['image']\n",
    "# with open('output.csv', 'w') as w:\n",
    "#     write = csv.writer(w)\n",
    "#     write.writerow(column_name)"
   ]
  },
  {
   "cell_type": "code",
   "execution_count": 6,
   "metadata": {},
   "outputs": [],
   "source": [
    "# for file in files:\n",
    "#     with open('output.csv', 'a') as w:\n",
    "#         write = csv.writer(w)\n",
    "#         write.writerow([file])"
   ]
  },
  {
   "cell_type": "code",
   "execution_count": 7,
   "metadata": {},
   "outputs": [],
   "source": [
    "df = pd.read_csv('output.csv', error_bad_lines=False)"
   ]
  },
  {
   "cell_type": "code",
   "execution_count": 8,
   "metadata": {},
   "outputs": [],
   "source": [
    "# df"
   ]
  },
  {
   "cell_type": "code",
   "execution_count": 9,
   "metadata": {},
   "outputs": [],
   "source": [
    "X = list(df['image'])"
   ]
  },
  {
   "cell_type": "code",
   "execution_count": 10,
   "metadata": {},
   "outputs": [],
   "source": [
    "# tmp = np.load(X[0], allow_pickle=True)\n",
    "# img = tmp['x']\n",
    "# img = np.reshape(img,(1,img.shape[0], img.shape[1]))\n",
    "# img = torch.from_numpy(img).float()\n",
    "# print(img.shape)\n",
    "# imgs = get_image_files(X)"
   ]
  },
  {
   "cell_type": "code",
   "execution_count": 11,
   "metadata": {},
   "outputs": [],
   "source": [
    "X_train, X_test, y_train, y_test = train_test_split(X, X, test_size=0.33, random_state=42)"
   ]
  },
  {
   "cell_type": "code",
   "execution_count": 12,
   "metadata": {},
   "outputs": [],
   "source": [
    "# type(X_train)\n",
    "# len(y_train)\n",
    "# dblock = DataBlock(blocks=(ImageBlock, PointBlock),\n",
    "#                    get_items=X_train,\n",
    "#                    splitter=RandomSplitter(),\n",
    "#                    get_y=tensor(y_train))"
   ]
  },
  {
   "cell_type": "code",
   "execution_count": 13,
   "metadata": {},
   "outputs": [],
   "source": [
    "class data_gen(torch.utils.data.Dataset):\n",
    "    def __init__(self, files):\n",
    "        \n",
    "        self.files = files\n",
    "        \n",
    "        \n",
    "    def __getitem__(self, i):\n",
    "        \n",
    "        file1 = self.files[i]\n",
    "        \n",
    "        tmp = np.load(file1, allow_pickle=True)\n",
    "        \n",
    "        img = tmp['x']\n",
    "        img = np.reshape(img,(1,img.shape[0], img.shape[1]))\n",
    "        img = torch.from_numpy(img).float()\n",
    "        \n",
    "        return (img, img)\n",
    "\n",
    "    def __len__(self): \n",
    "        \n",
    "        return len(self.files)"
   ]
  },
  {
   "cell_type": "code",
   "execution_count": 14,
   "metadata": {},
   "outputs": [],
   "source": [
    "train_ds = data_gen(X_train)\n",
    "test_ds = data_gen(X_test)"
   ]
  },
  {
   "cell_type": "code",
   "execution_count": 15,
   "metadata": {},
   "outputs": [],
   "source": [
    "batch_size = 8\n",
    "dls = DataLoaders.from_dsets(train_ds, test_ds, bs=batch_size, device='cuda:0')"
   ]
  },
  {
   "cell_type": "code",
   "execution_count": 16,
   "metadata": {},
   "outputs": [],
   "source": [
    "b,_ = dls.one_batch()"
   ]
  },
  {
   "cell_type": "code",
   "execution_count": 17,
   "metadata": {},
   "outputs": [],
   "source": [
    "# b.size()\n",
    "# dls.show_batch()"
   ]
  },
  {
   "cell_type": "code",
   "execution_count": 18,
   "metadata": {},
   "outputs": [],
   "source": [
    "# learn = unet_learner(dls, models.resnet34)"
   ]
  },
  {
   "cell_type": "code",
   "execution_count": 19,
   "metadata": {},
   "outputs": [],
   "source": [
    "# class Autoencoder(nn.Module):\n",
    "#     def __init__(self):\n",
    "#         super(Autoencoder, self).__init__()\n",
    "#         # Input size: [batch, 3, 32, 32]\n",
    "#         # Output size: [batch, 3, 32, 32]\n",
    "#         self.encoder = nn.Sequential(\n",
    "#             nn.Conv2d(1,12,4,stride=2,padding=1),\n",
    "#             nn.ReLU(),\n",
    "#             nn.Conv2d(12,24,4,stride=2,padding=1),\n",
    "#             nn.ReLU(),\n",
    "#             nn.Conv2d(24,48,4,stride=2,padding=1),\n",
    "#             nn.ReLU(),\n",
    "#             )\n",
    "#         self.decoder = nn.Sequential(\n",
    "#             nn.ConvTranspose2d(48,24,4,stride=2,padding=1),\n",
    "#             nn.ReLU(),\n",
    "#             nn.ConvTranspose2d(24,12,4,stride=2,padding=1),\n",
    "#             nn.ReLU(),\n",
    "#             nn.ConvTranspose2d(12,1,4,stride=2,padding=1),\n",
    "#             nn.Sigmoid(),\n",
    "#             )    \n",
    "#         def encode(self, x): return self.encoder(x)    \n",
    "        \n",
    "#         def decode(self, x): return self.decoder(x)    \n",
    "#         def forward(self, x):\n",
    "#             encoded = self.encoder(x)\n",
    "#             decoded = self.decoder(encoded)\n",
    "#             return decoded\n",
    "m = fastai.vision.models.resnet34(pretrained = False).cuda()"
   ]
  },
  {
   "cell_type": "code",
   "execution_count": 20,
   "metadata": {},
   "outputs": [],
   "source": [
    "# autoencoder = Autoencoder()\n",
    "m = nn.Sequential(*list(m.children())[:-3])"
   ]
  },
  {
   "cell_type": "code",
   "execution_count": 21,
   "metadata": {},
   "outputs": [],
   "source": [
    "code_sz = 32\n",
    "\n",
    "conv = nn.Conv2d(256, code_sz, kernel_size=(2,2)).cuda()\n",
    "\n",
    "m.add_module('CodeIn',conv)"
   ]
  },
  {
   "cell_type": "code",
   "execution_count": 22,
   "metadata": {},
   "outputs": [],
   "source": [
    "m._modules['0'] = nn.Conv2d(1, 64, kernel_size=(7,7),stride=2,padding=1).cuda()\n",
    "# m._modules['1'] = nn.BatchNorm2d(batch_size, eps=1e-05, momentum=0.1, affine=True, track_running_stats=True).cuda()\n",
    "# m"
   ]
  },
  {
   "cell_type": "code",
   "execution_count": 23,
   "metadata": {},
   "outputs": [
    {
     "data": {
      "text/plain": [
       "torch.Size([8, 32, 31, 31])"
      ]
     },
     "execution_count": 23,
     "metadata": {},
     "output_type": "execute_result"
    }
   ],
   "source": [
    "# autoencoder(b)\n",
    "m(b).size()"
   ]
  },
  {
   "cell_type": "code",
   "execution_count": 24,
   "metadata": {},
   "outputs": [],
   "source": [
    "# learn = Learner(data, autoencoder, loss_func = F.mse_loss)\n",
    "class UpSample(nn.Module):\n",
    "    def __init__(self,feat_in,feat_out,out_shape=None,scale=2):\n",
    "        super().__init__()\n",
    "        self.conv = nn.Conv2d(feat_in,feat_out,kernel_size=(3,3),stride=1,padding=1)\n",
    "        self.out_shape,self.scale = out_shape,scale\n",
    "        \n",
    "    \n",
    "    def forward(self,x):\n",
    "        return self.conv(\n",
    "            nn.functional.interpolate(\n",
    "                x,size=self.out_shape,scale_factor=self.scale,mode='bilinear',align_corners=True))"
   ]
  },
  {
   "cell_type": "code",
   "execution_count": 25,
   "metadata": {},
   "outputs": [],
   "source": [
    "def get_upSamp(feat_in,feat_out, out_shape=None, scale=2, act='relu'):\n",
    "    \n",
    "    upSamp = UpSample(feat_in,feat_out,out_shape=out_shape,scale=scale).cuda()\n",
    "    \n",
    "    layer = nn.Sequential(upSamp)\n",
    "    \n",
    "    if act == 'relu':\n",
    "        act_f = nn.ReLU(inplace=True).cuda()\n",
    "        bn = nn.BatchNorm2d(feat_out).cuda()\n",
    "        layer.add_module('ReLU',act_f)\n",
    "        layer.add_module('BN',bn)\n",
    "    elif act == 'sig':\n",
    "        act_f = nn.Sigmoid()\n",
    "        layer.add_module('Sigmoid',act_f)\n",
    "    return layer\n",
    "\n",
    "def add_layer(m,feat_in,feat_out,name,out_shape=None,scale=2,act='relu'):\n",
    "    upSamp = get_upSamp(feat_in,feat_out,out_shape=out_shape,scale=scale,act=act)\n",
    "    m.add_module(name,upSamp)"
   ]
  },
  {
   "cell_type": "code",
   "execution_count": 26,
   "metadata": {},
   "outputs": [],
   "source": [
    "add_layer(m,code_sz,256,'CodeOut',out_shape=(64,64),scale=None)\n",
    "add_layer(m,256,128,'Upsample0')\n",
    "add_layer(m,128,64,'Upsample1')\n",
    "add_layer(m,64,32,'Upsample2')\n",
    "add_layer(m,32,1,'Upsample3',act='sig', scale=1)"
   ]
  },
  {
   "cell_type": "code",
   "execution_count": 27,
   "metadata": {},
   "outputs": [
    {
     "data": {
      "text/plain": [
       "torch.Size([8, 1, 512, 512])"
      ]
     },
     "execution_count": 27,
     "metadata": {},
     "output_type": "execute_result"
    }
   ],
   "source": [
    "m(b).size()\n",
    "# b.size()\n",
    "# m"
   ]
  },
  {
   "cell_type": "code",
   "execution_count": 30,
   "metadata": {},
   "outputs": [],
   "source": [
    "learn = Learner(dls=dls,model=m,loss_func=F.mse_loss)"
   ]
  },
  {
   "cell_type": "code",
   "execution_count": 31,
   "metadata": {},
   "outputs": [
    {
     "data": {
      "text/html": [
       "<table border=\"1\" class=\"dataframe\">\n",
       "  <thead>\n",
       "    <tr style=\"text-align: left;\">\n",
       "      <th>epoch</th>\n",
       "      <th>train_loss</th>\n",
       "      <th>valid_loss</th>\n",
       "      <th>time</th>\n",
       "    </tr>\n",
       "  </thead>\n",
       "  <tbody>\n",
       "    <tr>\n",
       "      <td>0</td>\n",
       "      <td>None</td>\n",
       "      <td>00:00</td>\n",
       "    </tr>\n",
       "  </tbody>\n",
       "</table>"
      ],
      "text/plain": [
       "<IPython.core.display.HTML object>"
      ]
     },
     "metadata": {},
     "output_type": "display_data"
    },
    {
     "data": {
      "text/plain": [
       "Sequential (Input shape: ['8 x 1 x 512 x 512'])\n",
       "================================================================\n",
       "Layer (type)         Output Shape         Param #    Trainable \n",
       "================================================================\n",
       "Conv2d               8 x 64 x 254 x 254   3,200      True      \n",
       "________________________________________________________________\n",
       "BatchNorm2d          8 x 64 x 254 x 254   128        True      \n",
       "________________________________________________________________\n",
       "ReLU                 8 x 64 x 254 x 254   0          False     \n",
       "________________________________________________________________\n",
       "MaxPool2d            8 x 64 x 127 x 127   0          False     \n",
       "________________________________________________________________\n",
       "Conv2d               8 x 64 x 127 x 127   36,864     True      \n",
       "________________________________________________________________\n",
       "BatchNorm2d          8 x 64 x 127 x 127   128        True      \n",
       "________________________________________________________________\n",
       "ReLU                 8 x 64 x 127 x 127   0          False     \n",
       "________________________________________________________________\n",
       "Conv2d               8 x 64 x 127 x 127   36,864     True      \n",
       "________________________________________________________________\n",
       "BatchNorm2d          8 x 64 x 127 x 127   128        True      \n",
       "________________________________________________________________\n",
       "Conv2d               8 x 64 x 127 x 127   36,864     True      \n",
       "________________________________________________________________\n",
       "BatchNorm2d          8 x 64 x 127 x 127   128        True      \n",
       "________________________________________________________________\n",
       "ReLU                 8 x 64 x 127 x 127   0          False     \n",
       "________________________________________________________________\n",
       "Conv2d               8 x 64 x 127 x 127   36,864     True      \n",
       "________________________________________________________________\n",
       "BatchNorm2d          8 x 64 x 127 x 127   128        True      \n",
       "________________________________________________________________\n",
       "Conv2d               8 x 64 x 127 x 127   36,864     True      \n",
       "________________________________________________________________\n",
       "BatchNorm2d          8 x 64 x 127 x 127   128        True      \n",
       "________________________________________________________________\n",
       "ReLU                 8 x 64 x 127 x 127   0          False     \n",
       "________________________________________________________________\n",
       "Conv2d               8 x 64 x 127 x 127   36,864     True      \n",
       "________________________________________________________________\n",
       "BatchNorm2d          8 x 64 x 127 x 127   128        True      \n",
       "________________________________________________________________\n",
       "Conv2d               8 x 128 x 64 x 64    73,728     True      \n",
       "________________________________________________________________\n",
       "BatchNorm2d          8 x 128 x 64 x 64    256        True      \n",
       "________________________________________________________________\n",
       "ReLU                 8 x 128 x 64 x 64    0          False     \n",
       "________________________________________________________________\n",
       "Conv2d               8 x 128 x 64 x 64    147,456    True      \n",
       "________________________________________________________________\n",
       "BatchNorm2d          8 x 128 x 64 x 64    256        True      \n",
       "________________________________________________________________\n",
       "Conv2d               8 x 128 x 64 x 64    8,192      True      \n",
       "________________________________________________________________\n",
       "BatchNorm2d          8 x 128 x 64 x 64    256        True      \n",
       "________________________________________________________________\n",
       "Conv2d               8 x 128 x 64 x 64    147,456    True      \n",
       "________________________________________________________________\n",
       "BatchNorm2d          8 x 128 x 64 x 64    256        True      \n",
       "________________________________________________________________\n",
       "ReLU                 8 x 128 x 64 x 64    0          False     \n",
       "________________________________________________________________\n",
       "Conv2d               8 x 128 x 64 x 64    147,456    True      \n",
       "________________________________________________________________\n",
       "BatchNorm2d          8 x 128 x 64 x 64    256        True      \n",
       "________________________________________________________________\n",
       "Conv2d               8 x 128 x 64 x 64    147,456    True      \n",
       "________________________________________________________________\n",
       "BatchNorm2d          8 x 128 x 64 x 64    256        True      \n",
       "________________________________________________________________\n",
       "ReLU                 8 x 128 x 64 x 64    0          False     \n",
       "________________________________________________________________\n",
       "Conv2d               8 x 128 x 64 x 64    147,456    True      \n",
       "________________________________________________________________\n",
       "BatchNorm2d          8 x 128 x 64 x 64    256        True      \n",
       "________________________________________________________________\n",
       "Conv2d               8 x 128 x 64 x 64    147,456    True      \n",
       "________________________________________________________________\n",
       "BatchNorm2d          8 x 128 x 64 x 64    256        True      \n",
       "________________________________________________________________\n",
       "ReLU                 8 x 128 x 64 x 64    0          False     \n",
       "________________________________________________________________\n",
       "Conv2d               8 x 128 x 64 x 64    147,456    True      \n",
       "________________________________________________________________\n",
       "BatchNorm2d          8 x 128 x 64 x 64    256        True      \n",
       "________________________________________________________________\n",
       "Conv2d               8 x 256 x 32 x 32    294,912    True      \n",
       "________________________________________________________________\n",
       "BatchNorm2d          8 x 256 x 32 x 32    512        True      \n",
       "________________________________________________________________\n",
       "ReLU                 8 x 256 x 32 x 32    0          False     \n",
       "________________________________________________________________\n",
       "Conv2d               8 x 256 x 32 x 32    589,824    True      \n",
       "________________________________________________________________\n",
       "BatchNorm2d          8 x 256 x 32 x 32    512        True      \n",
       "________________________________________________________________\n",
       "Conv2d               8 x 256 x 32 x 32    32,768     True      \n",
       "________________________________________________________________\n",
       "BatchNorm2d          8 x 256 x 32 x 32    512        True      \n",
       "________________________________________________________________\n",
       "Conv2d               8 x 256 x 32 x 32    589,824    True      \n",
       "________________________________________________________________\n",
       "BatchNorm2d          8 x 256 x 32 x 32    512        True      \n",
       "________________________________________________________________\n",
       "ReLU                 8 x 256 x 32 x 32    0          False     \n",
       "________________________________________________________________\n",
       "Conv2d               8 x 256 x 32 x 32    589,824    True      \n",
       "________________________________________________________________\n",
       "BatchNorm2d          8 x 256 x 32 x 32    512        True      \n",
       "________________________________________________________________\n",
       "Conv2d               8 x 256 x 32 x 32    589,824    True      \n",
       "________________________________________________________________\n",
       "BatchNorm2d          8 x 256 x 32 x 32    512        True      \n",
       "________________________________________________________________\n",
       "ReLU                 8 x 256 x 32 x 32    0          False     \n",
       "________________________________________________________________\n",
       "Conv2d               8 x 256 x 32 x 32    589,824    True      \n",
       "________________________________________________________________\n",
       "BatchNorm2d          8 x 256 x 32 x 32    512        True      \n",
       "________________________________________________________________\n",
       "Conv2d               8 x 256 x 32 x 32    589,824    True      \n",
       "________________________________________________________________\n",
       "BatchNorm2d          8 x 256 x 32 x 32    512        True      \n",
       "________________________________________________________________\n",
       "ReLU                 8 x 256 x 32 x 32    0          False     \n",
       "________________________________________________________________\n",
       "Conv2d               8 x 256 x 32 x 32    589,824    True      \n",
       "________________________________________________________________\n",
       "BatchNorm2d          8 x 256 x 32 x 32    512        True      \n",
       "________________________________________________________________\n",
       "Conv2d               8 x 256 x 32 x 32    589,824    True      \n",
       "________________________________________________________________\n",
       "BatchNorm2d          8 x 256 x 32 x 32    512        True      \n",
       "________________________________________________________________\n",
       "ReLU                 8 x 256 x 32 x 32    0          False     \n",
       "________________________________________________________________\n",
       "Conv2d               8 x 256 x 32 x 32    589,824    True      \n",
       "________________________________________________________________\n",
       "BatchNorm2d          8 x 256 x 32 x 32    512        True      \n",
       "________________________________________________________________\n",
       "Conv2d               8 x 256 x 32 x 32    589,824    True      \n",
       "________________________________________________________________\n",
       "BatchNorm2d          8 x 256 x 32 x 32    512        True      \n",
       "________________________________________________________________\n",
       "ReLU                 8 x 256 x 32 x 32    0          False     \n",
       "________________________________________________________________\n",
       "Conv2d               8 x 256 x 32 x 32    589,824    True      \n",
       "________________________________________________________________\n",
       "BatchNorm2d          8 x 256 x 32 x 32    512        True      \n",
       "________________________________________________________________\n",
       "Conv2d               8 x 32 x 31 x 31     32,800     True      \n",
       "________________________________________________________________\n",
       "Conv2d               8 x 256 x 64 x 64    73,984     True      \n",
       "________________________________________________________________\n",
       "ReLU                 8 x 256 x 64 x 64    0          False     \n",
       "________________________________________________________________\n",
       "BatchNorm2d          8 x 256 x 64 x 64    512        True      \n",
       "________________________________________________________________\n",
       "Conv2d               8 x 128 x 128 x 128  295,040    True      \n",
       "________________________________________________________________\n",
       "ReLU                 8 x 128 x 128 x 128  0          False     \n",
       "________________________________________________________________\n",
       "BatchNorm2d          8 x 128 x 128 x 128  256        True      \n",
       "________________________________________________________________\n",
       "Conv2d               8 x 64 x 256 x 256   73,792     True      \n",
       "________________________________________________________________\n",
       "ReLU                 8 x 64 x 256 x 256   0          False     \n",
       "________________________________________________________________\n",
       "BatchNorm2d          8 x 64 x 256 x 256   128        True      \n",
       "________________________________________________________________\n",
       "Conv2d               8 x 32 x 512 x 512   18,464     True      \n",
       "________________________________________________________________\n",
       "ReLU                 8 x 32 x 512 x 512   0          False     \n",
       "________________________________________________________________\n",
       "BatchNorm2d          8 x 32 x 512 x 512   64         True      \n",
       "________________________________________________________________\n",
       "Conv2d               8 x 1 x 512 x 512    289        True      \n",
       "________________________________________________________________\n",
       "Sigmoid              8 x 1 x 512 x 512    0          False     \n",
       "________________________________________________________________\n",
       "\n",
       "Total params: 8,659,425\n",
       "Total trainable params: 8,659,425\n",
       "Total non-trainable params: 0\n",
       "\n",
       "Optimizer used: <function Adam at 0x7f1232b65b80>\n",
       "Loss function: <function mse_loss at 0x7f124065fd30>\n",
       "\n",
       "Callbacks:\n",
       "  - TrainEvalCallback\n",
       "  - Recorder\n",
       "  - ProgressCallback"
      ]
     },
     "execution_count": 31,
     "metadata": {},
     "output_type": "execute_result"
    }
   ],
   "source": [
    "# learn.final_record\n",
    "learn.summary()"
   ]
  },
  {
   "cell_type": "code",
   "execution_count": 34,
   "metadata": {},
   "outputs": [],
   "source": [
    "# fastai.__version__\n",
    "lr = 1e-2"
   ]
  },
  {
   "cell_type": "code",
   "execution_count": 33,
   "metadata": {},
   "outputs": [
    {
     "data": {
      "text/html": [],
      "text/plain": [
       "<IPython.core.display.HTML object>"
      ]
     },
     "metadata": {},
     "output_type": "display_data"
    },
    {
     "data": {
      "text/plain": [
       "SuggestedLRs(lr_min=7.585775847473997e-08, lr_steep=2.511886486900039e-05)"
      ]
     },
     "execution_count": 33,
     "metadata": {},
     "output_type": "execute_result"
    },
    {
     "data": {
      "image/png": "[encoded data removed]",
      "text/plain": [
       "<Figure size 432x288 with 1 Axes>"
      ]
     },
     "metadata": {
      "needs_background": "light"
     },
     "output_type": "display_data"
    }
   ],
   "source": [
    "# learn.fit(10,lr)\n",
    "# for i in dls.train_ds:\n",
    "#     print(i.shape)\n",
    "# count = 0\n",
    "# for i in dls.train:\n",
    "#     print(count+1)\n",
    "#     print(i.shape)\n",
    "#     count+=1\n",
    "lr_find(learn)"
   ]
  },
  {
   "cell_type": "code",
   "execution_count": 35,
   "metadata": {},
   "outputs": [
    {
     "data": {
      "text/html": [
       "<table border=\"1\" class=\"dataframe\">\n",
       "  <thead>\n",
       "    <tr style=\"text-align: left;\">\n",
       "      <th>epoch</th>\n",
       "      <th>train_loss</th>\n",
       "      <th>valid_loss</th>\n",
       "      <th>time</th>\n",
       "    </tr>\n",
       "  </thead>\n",
       "  <tbody>\n",
       "    <tr>\n",
       "      <td>0</td>\n",
       "      <td>77.224052</td>\n",
       "      <td>77.531769</td>\n",
       "      <td>01:21</td>\n",
       "    </tr>\n",
       "    <tr>\n",
       "      <td>1</td>\n",
       "      <td>77.483757</td>\n",
       "      <td>76.730850</td>\n",
       "      <td>01:22</td>\n",
       "    </tr>\n",
       "    <tr>\n",
       "      <td>2</td>\n",
       "      <td>77.434334</td>\n",
       "      <td>76.532478</td>\n",
       "      <td>01:23</td>\n",
       "    </tr>\n",
       "    <tr>\n",
       "      <td>3</td>\n",
       "      <td>77.505379</td>\n",
       "      <td>76.442963</td>\n",
       "      <td>01:25</td>\n",
       "    </tr>\n",
       "    <tr>\n",
       "      <td>4</td>\n",
       "      <td>76.459488</td>\n",
       "      <td>76.477005</td>\n",
       "      <td>01:24</td>\n",
       "    </tr>\n",
       "    <tr>\n",
       "      <td>5</td>\n",
       "      <td>77.156502</td>\n",
       "      <td>76.351067</td>\n",
       "      <td>01:25</td>\n",
       "    </tr>\n",
       "    <tr>\n",
       "      <td>6</td>\n",
       "      <td>76.941597</td>\n",
       "      <td>76.333847</td>\n",
       "      <td>01:24</td>\n",
       "    </tr>\n",
       "    <tr>\n",
       "      <td>7</td>\n",
       "      <td>77.181450</td>\n",
       "      <td>76.344879</td>\n",
       "      <td>01:22</td>\n",
       "    </tr>\n",
       "    <tr>\n",
       "      <td>8</td>\n",
       "      <td>77.173126</td>\n",
       "      <td>76.304436</td>\n",
       "      <td>01:22</td>\n",
       "    </tr>\n",
       "    <tr>\n",
       "      <td>9</td>\n",
       "      <td>77.042160</td>\n",
       "      <td>76.253128</td>\n",
       "      <td>01:22</td>\n",
       "    </tr>\n",
       "    <tr>\n",
       "      <td>10</td>\n",
       "      <td>76.667358</td>\n",
       "      <td>76.226349</td>\n",
       "      <td>01:22</td>\n",
       "    </tr>\n",
       "    <tr>\n",
       "      <td>11</td>\n",
       "      <td>76.708252</td>\n",
       "      <td>76.213104</td>\n",
       "      <td>01:22</td>\n",
       "    </tr>\n",
       "    <tr>\n",
       "      <td>12</td>\n",
       "      <td>77.168228</td>\n",
       "      <td>76.179192</td>\n",
       "      <td>01:22</td>\n",
       "    </tr>\n",
       "    <tr>\n",
       "      <td>13</td>\n",
       "      <td>76.535240</td>\n",
       "      <td>76.167847</td>\n",
       "      <td>01:22</td>\n",
       "    </tr>\n",
       "    <tr>\n",
       "      <td>14</td>\n",
       "      <td>76.986221</td>\n",
       "      <td>76.136002</td>\n",
       "      <td>01:22</td>\n",
       "    </tr>\n",
       "    <tr>\n",
       "      <td>15</td>\n",
       "      <td>76.174347</td>\n",
       "      <td>76.130333</td>\n",
       "      <td>01:22</td>\n",
       "    </tr>\n",
       "    <tr>\n",
       "      <td>16</td>\n",
       "      <td>76.607643</td>\n",
       "      <td>76.117126</td>\n",
       "      <td>01:22</td>\n",
       "    </tr>\n",
       "    <tr>\n",
       "      <td>17</td>\n",
       "      <td>76.574379</td>\n",
       "      <td>76.095245</td>\n",
       "      <td>01:22</td>\n",
       "    </tr>\n",
       "    <tr>\n",
       "      <td>18</td>\n",
       "      <td>76.353386</td>\n",
       "      <td>76.086800</td>\n",
       "      <td>01:22</td>\n",
       "    </tr>\n",
       "    <tr>\n",
       "      <td>19</td>\n",
       "      <td>76.443069</td>\n",
       "      <td>76.076347</td>\n",
       "      <td>01:22</td>\n",
       "    </tr>\n",
       "  </tbody>\n",
       "</table>"
      ],
      "text/plain": [
       "<IPython.core.display.HTML object>"
      ]
     },
     "metadata": {},
     "output_type": "display_data"
    }
   ],
   "source": [
    "# lr = 2.75e-7\n",
    "learn.fit(20,lr)"
   ]
  },
  {
   "cell_type": "code",
   "execution_count": 36,
   "metadata": {},
   "outputs": [
    {
     "data": {
      "text/plain": [
       "Path('models/model_20ep.pth')"
      ]
     },
     "execution_count": 36,
     "metadata": {},
     "output_type": "execute_result"
    }
   ],
   "source": [
    "learn.save('model_20ep')"
   ]
  },
  {
   "cell_type": "code",
   "execution_count": null,
   "metadata": {},
   "outputs": [],
   "source": []
  }
 ],
 "metadata": {
  "kernelspec": {
   "display_name": "Python 3",
   "language": "python",
   "name": "python3"
  },
  "language_info": {
   "codemirror_mode": {
    "name": "ipython",
    "version": 3
   },
   "file_extension": ".py",
   "mimetype": "text/x-python",
   "name": "python",
   "nbconvert_exporter": "python",
   "pygments_lexer": "ipython3",
   "version": "3.8.5"
  }
 },
 "nbformat": 4,
 "nbformat_minor": 4
}
